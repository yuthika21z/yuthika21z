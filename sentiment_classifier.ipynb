{
  "cells": [
    {
      "cell_type": "markdown",
      "metadata": {
        "id": "view-in-github",
        "colab_type": "text"
      },
      "source": [
        "<a href=\"https://colab.research.google.com/github/yuthika21z/yuthika21z/blob/main/sentiment_classifier.ipynb\" target=\"_parent\"><img src=\"https://colab.research.google.com/assets/colab-badge.svg\" alt=\"Open In Colab\"/></a>"
      ]
    },
    {
      "cell_type": "code",
      "execution_count": null,
      "metadata": {
        "colab": {
          "base_uri": "https://localhost:8080/"
        },
        "id": "22xNRo1chRpP",
        "outputId": "c8308609-3389-4676-a47d-33543de9f1cc"
      },
      "outputs": [
        {
          "output_type": "stream",
          "name": "stderr",
          "text": [
            "[nltk_data] Downloading package punkt to /root/nltk_data...\n",
            "[nltk_data]   Unzipping tokenizers/punkt.zip.\n"
          ]
        },
        {
          "output_type": "execute_result",
          "data": {
            "text/plain": [
              "True"
            ]
          },
          "metadata": {},
          "execution_count": 1
        }
      ],
      "source": [
        "import nltk\n",
        "nltk.download('punkt')"
      ]
    },
    {
      "cell_type": "code",
      "execution_count": null,
      "metadata": {
        "colab": {
          "base_uri": "https://localhost:8080/"
        },
        "id": "AxDP8evUgo8k",
        "outputId": "9db996b9-8dec-4b40-ac55-260dde8b1e73"
      },
      "outputs": [
        {
          "output_type": "stream",
          "name": "stderr",
          "text": [
            "[nltk_data] Downloading package movie_reviews to /root/nltk_data...\n",
            "[nltk_data]   Unzipping corpora/movie_reviews.zip.\n"
          ]
        },
        {
          "output_type": "stream",
          "name": "stdout",
          "text": [
            "Naive Bayes Classifier Accuracy: 0.852\n",
            "SVM Classifier Accuracy: 0.826\n",
            "Naive Bayes Predicted Sentiment: Positive\n",
            "SVM Predicted Sentiment: Negative\n"
          ]
        }
      ],
      "source": [
        "import nltk\n",
        "import random\n",
        "from nltk.corpus import movie_reviews\n",
        "from nltk.classify.scikitlearn import SklearnClassifier\n",
        "from sklearn.feature_extraction.text import TfidfVectorizer\n",
        "from sklearn.naive_bayes import MultinomialNB\n",
        "from sklearn.svm import SVC\n",
        "from sklearn.metrics import accuracy_score\n",
        "\n",
        "# Step 1: Prepare the data\n",
        "nltk.download('movie_reviews')\n",
        "documents = [(list(movie_reviews.words(fileid)), category)\n",
        "             for category in movie_reviews.categories()\n",
        "             for fileid in movie_reviews.fileids(category)]\n",
        "random.shuffle(documents)\n",
        "\n",
        "# Step 2: Preprocess the data and extract features\n",
        "all_words = nltk.FreqDist(w.lower() for w in movie_reviews.words())\n",
        "word_features = list(all_words.keys())[:5000]  # Use the top 5000 most frequent words as features\n",
        "\n",
        "def document_features(document):\n",
        "    document_words = set(document)\n",
        "    features = {}\n",
        "    for word in word_features:\n",
        "        features[word] = (word in document_words)\n",
        "    return features\n",
        "\n",
        "# Step 3: Extract features and split the data into training and testing sets\n",
        "featuresets = [(document_features(d), c) for (d, c) in documents]\n",
        "train_set, test_set = featuresets[:1500], featuresets[1500:]\n",
        "\n",
        "# Step 4: Train a classifier (Naive Bayes)\n",
        "classifier = SklearnClassifier(MultinomialNB())\n",
        "classifier.train(train_set)\n",
        "\n",
        "# Step 5: Evaluate the classifier\n",
        "test_features, test_labels = zip(*test_set)\n",
        "predictions = classifier.classify_many(test_features)\n",
        "accuracy = accuracy_score(test_labels, predictions)\n",
        "print(\"Naive Bayes Classifier Accuracy:\", accuracy)\n",
        "\n",
        "# Step 6: Train a classifier (SVM)\n",
        "svm_classifier = SklearnClassifier(SVC(kernel='linear'))\n",
        "svm_classifier.train(train_set)\n",
        "\n",
        "# Step 7: Evaluate the SVM classifier\n",
        "svm_predictions = svm_classifier.classify_many(test_features)\n",
        "svm_accuracy = accuracy_score(test_labels, svm_predictions)\n",
        "print(\"SVM Classifier Accuracy:\", svm_accuracy)\n",
        "\n",
        "# Step 8: Make predictions\n",
        "def predict_sentiment(text, classifier):\n",
        "    words = nltk.word_tokenize(text)\n",
        "    features = document_features(words)\n",
        "    sentiment = classifier.classify(features)\n",
        "    return \"Positive\" if sentiment == 'pos' else \"Negative\"\n",
        "\n",
        "# Example usage:\n",
        "sample_review = \"This Film is not only good but also flawless\"\n",
        "nb_sentiment = predict_sentiment(sample_review, classifier)\n",
        "svm_sentiment = predict_sentiment(sample_review, svm_classifier)\n",
        "print(\"Naive Bayes Predicted Sentiment:\", nb_sentiment)\n",
        "print(\"SVM Predicted Sentiment:\", svm_sentiment)\n"
      ]
    },
    {
      "cell_type": "markdown",
      "metadata": {
        "id": "VFTMTX82obu4"
      },
      "source": [
        "**Perfrom Prediction**"
      ]
    },
    {
      "cell_type": "code",
      "execution_count": null,
      "metadata": {
        "colab": {
          "base_uri": "https://localhost:8080/"
        },
        "id": "5KF88uvPhS6s",
        "outputId": "10612fd4-260b-4c69-e44d-fded581e2255"
      },
      "outputs": [
        {
          "output_type": "stream",
          "name": "stdout",
          "text": [
            "Naive Bayes Predicted Sentiment: Positive\n",
            "SVM Predicted Sentiment: Negative\n"
          ]
        }
      ],
      "source": [
        "def predict_sentiment(text, classifier):\n",
        "    words = nltk.word_tokenize(text)\n",
        "    features = document_features(words)\n",
        "    sentiment = classifier.classify(features)\n",
        "    return \"Positive\" if sentiment == 'pos' else \"Negative\"\n",
        "\n",
        "# Example usage:\n",
        "sample_review = \"This Film is not only good but also flawless\"\n",
        "nb_sentiment = predict_sentiment(sample_review, classifier)\n",
        "svm_sentiment = predict_sentiment(sample_review, svm_classifier)\n",
        "print(\"Naive Bayes Predicted Sentiment:\", nb_sentiment)\n",
        "print(\"SVM Predicted Sentiment:\", svm_sentiment)"
      ]
    },
    {
      "cell_type": "code",
      "source": [],
      "metadata": {
        "id": "Pw0sDSBnkSYe"
      },
      "execution_count": null,
      "outputs": []
    }
  ],
  "metadata": {
    "accelerator": "GPU",
    "colab": {
      "provenance": [],
      "include_colab_link": true
    },
    "kernelspec": {
      "display_name": "Python 3",
      "name": "python3"
    },
    "language_info": {
      "name": "python"
    }
  },
  "nbformat": 4,
  "nbformat_minor": 0
}